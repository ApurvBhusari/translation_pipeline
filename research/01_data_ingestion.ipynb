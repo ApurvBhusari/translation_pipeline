{
 "cells": [
  {
   "cell_type": "code",
   "execution_count": 7,
   "metadata": {},
   "outputs": [],
   "source": [
    "import os"
   ]
  },
  {
   "cell_type": "code",
   "execution_count": 8,
   "metadata": {},
   "outputs": [
    {
     "data": {
      "text/plain": [
       "'c:\\\\Users\\\\prati\\\\Desktop\\\\Project\\\\English-to-Hindi-Translator\\\\research'"
      ]
     },
     "execution_count": 8,
     "metadata": {},
     "output_type": "execute_result"
    }
   ],
   "source": [
    "%pwd"
   ]
  },
  {
   "cell_type": "code",
   "execution_count": 9,
   "metadata": {},
   "outputs": [],
   "source": [
    "os.chdir(\"../\")"
   ]
  },
  {
   "cell_type": "code",
   "execution_count": 10,
   "metadata": {},
   "outputs": [
    {
     "data": {
      "text/plain": [
       "'c:\\\\Users\\\\prati\\\\Desktop\\\\Project\\\\English-to-Hindi-Translator'"
      ]
     },
     "execution_count": 10,
     "metadata": {},
     "output_type": "execute_result"
    }
   ],
   "source": [
    "%pwd"
   ]
  },
  {
   "cell_type": "code",
   "execution_count": 31,
   "metadata": {},
   "outputs": [],
   "source": [
    "#Update in entity\n",
    "from dataclasses import dataclass\n",
    "from pathlib import Path\n",
    "\n",
    "@dataclass(frozen=True)\n",
    "class DataIngestionConfig:\n",
    "    root_dir: Path\n",
    "    source: str\n",
    "    local_data_file: Path\n",
    "    "
   ]
  },
  {
   "cell_type": "code",
   "execution_count": 12,
   "metadata": {},
   "outputs": [],
   "source": [
    "from src.translator.constants import *\n",
    "from src.translator.utils.common import read_yaml, create_directories"
   ]
  },
  {
   "cell_type": "code",
   "execution_count": 24,
   "metadata": {},
   "outputs": [],
   "source": [
    "#Update configuration.py\n",
    "class ConfigurationManager:\n",
    "    def __init__(\n",
    "        self,\n",
    "        config_filepath = CONFIG_FILE_PATH,\n",
    "        params_filepath = PARAMS_FILE_PATH):\n",
    "\n",
    "        self.config = read_yaml(config_filepath)\n",
    "        self.params = read_yaml(params_filepath)\n",
    "\n",
    "        create_directories([self.config.artifacts_root])\n",
    "\n",
    "    \n",
    "\n",
    "    def get_data_ingestion_config(self) -> DataIngestionConfig:\n",
    "        config = self.config.data_ingestion\n",
    "\n",
    "        create_directories([config.root_dir])\n",
    "\n",
    "        data_ingestion_config = DataIngestionConfig(\n",
    "            root_dir=config.root_dir,\n",
    "            source=config.source,\n",
    "            local_data_file=config.local_data_file,\n",
    "        )\n",
    "\n",
    "        return data_ingestion_config"
   ]
  },
  {
   "cell_type": "code",
   "execution_count": 25,
   "metadata": {},
   "outputs": [],
   "source": [
    "import os\n",
    "import datasets\n",
    "import pandas as pd\n",
    "from src.translator.logging import logger\n",
    "from src.translator.utils.common import get_size"
   ]
  },
  {
   "cell_type": "code",
   "execution_count": 29,
   "metadata": {},
   "outputs": [],
   "source": [
    "#Update data ingestion\n",
    "class DataIngestion:\n",
    "    def __init__(self, config: DataIngestionConfig):\n",
    "        self.config = config\n",
    "\n",
    "\n",
    "    \n",
    "    def download_file(self):\n",
    "        if not os.path.exists(self.config.local_data_file):\n",
    "            logger.info(\"Downloading data\")\n",
    "            dataset = datasets.load_dataset(f'{self.config.source}')\n",
    "\n",
    "            # Step 2: Convert the dataset to a Pandas DataFrame\n",
    "            df_train = pd.DataFrame(dataset[\"train\"])\n",
    "            df_test = pd.DataFrame(dataset[\"test\"])\n",
    "            df_validation= pd.DataFrame(dataset[\"validation\"])\n",
    "            \n",
    "            # Save the DataFrame to a CSV file in the desired folder\n",
    "            df_train.to_csv(self.config.root_dir + \"/train.csv\", index=False)\n",
    "            df_validation.to_csv(self.config.root_dir + \"/validation.csv\", index=False)\n",
    "            df_test.to_csv(self.config.root_dir + \"/test.csv\", index=False)\n",
    "            \n",
    "            logger.info(\"Dataset ingestion succesful\")\n",
    "        else:\n",
    "            logger.info(f\"File already exists of size: {get_size(Path(self.config.local_data_file))}\")  \n",
    "\n",
    "        "
   ]
  },
  {
   "cell_type": "code",
   "execution_count": 30,
   "metadata": {},
   "outputs": [
    {
     "name": "stdout",
     "output_type": "stream",
     "text": [
      "[2023-08-06 19:36:49,198: INFO: common: yaml file: config\\config.yaml loaded successfully]\n"
     ]
    },
    {
     "name": "stdout",
     "output_type": "stream",
     "text": [
      "[2023-08-06 19:36:49,205: INFO: common: yaml file: params.yaml loaded successfully]\n",
      "[2023-08-06 19:36:49,207: INFO: common: created directory at: artifacts]\n",
      "[2023-08-06 19:36:49,211: INFO: common: created directory at: artifacts/data_ingestion]\n"
     ]
    },
    {
     "name": "stderr",
     "output_type": "stream",
     "text": [
      "Downloading builder script: 100%|██████████| 3.36k/3.36k [00:00<00:00, 3.34MB/s]\n",
      "Downloading metadata: 100%|██████████| 1.58k/1.58k [00:00<?, ?B/s]\n",
      "Downloading readme: 100%|██████████| 7.04k/7.04k [00:00<?, ?B/s]\n",
      "Downloading data: 100%|██████████| 2.94M/2.94M [00:04<00:00, 651kB/s]\n",
      "Generating train split: 100%|██████████| 14732/14732 [00:00<00:00, 16746.13 examples/s]\n",
      "Generating test split: 100%|██████████| 819/819 [00:00<00:00, 2325.88 examples/s]\n",
      "Generating validation split: 100%|██████████| 818/818 [00:00<00:00, 2331.84 examples/s]\n"
     ]
    },
    {
     "name": "stdout",
     "output_type": "stream",
     "text": [
      "[2023-08-06 19:38:12,514: INFO: 2404831519: Dataset ingestion succesful]\n"
     ]
    }
   ],
   "source": [
    "try:\n",
    "    config = ConfigurationManager()\n",
    "    data_ingestion_config = config.get_data_ingestion_config()\n",
    "    data_ingestion = DataIngestion(config=data_ingestion_config)\n",
    "    data_ingestion.download_file()\n",
    "except Exception as e:\n",
    "    raise e"
   ]
  }
 ],
 "metadata": {
  "kernelspec": {
   "display_name": "textS",
   "language": "python",
   "name": "python3"
  },
  "language_info": {
   "codemirror_mode": {
    "name": "ipython",
    "version": 3
   },
   "file_extension": ".py",
   "mimetype": "text/x-python",
   "name": "python",
   "nbconvert_exporter": "python",
   "pygments_lexer": "ipython3",
   "version": "3.8.0"
  },
  "orig_nbformat": 4
 },
 "nbformat": 4,
 "nbformat_minor": 2
}
