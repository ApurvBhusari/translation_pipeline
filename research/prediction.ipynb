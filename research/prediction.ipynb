{
 "cells": [
  {
   "cell_type": "code",
   "execution_count": 2,
   "metadata": {},
   "outputs": [],
   "source": [
    "import os"
   ]
  },
  {
   "cell_type": "code",
   "execution_count": 3,
   "metadata": {},
   "outputs": [
    {
     "data": {
      "text/plain": [
       "'c:\\\\Users\\\\prati\\\\Desktop\\\\Project\\\\English-to-Hindi-Translator\\\\research'"
      ]
     },
     "execution_count": 3,
     "metadata": {},
     "output_type": "execute_result"
    }
   ],
   "source": [
    "%pwd"
   ]
  },
  {
   "cell_type": "code",
   "execution_count": 4,
   "metadata": {},
   "outputs": [],
   "source": [
    "os.chdir(\"../\")"
   ]
  },
  {
   "cell_type": "code",
   "execution_count": 5,
   "metadata": {},
   "outputs": [
    {
     "data": {
      "text/plain": [
       "'c:\\\\Users\\\\prati\\\\Desktop\\\\Project\\\\English-to-Hindi-Translator'"
      ]
     },
     "execution_count": 5,
     "metadata": {},
     "output_type": "execute_result"
    }
   ],
   "source": [
    "%pwd"
   ]
  },
  {
   "cell_type": "code",
   "execution_count": 25,
   "metadata": {},
   "outputs": [],
   "source": [
    "from dataclasses import dataclass\n",
    "from pathlib import Path\n",
    "@dataclass(frozen=True)\n",
    "class ModelPredictionConfig:\n",
    "    model_path: Path\n",
    "    model_ckpt: Path"
   ]
  },
  {
   "cell_type": "code",
   "execution_count": 7,
   "metadata": {},
   "outputs": [],
   "source": [
    "from src.translator.constants import *\n",
    "from src.translator.utils.common import read_yaml, create_directories"
   ]
  },
  {
   "cell_type": "code",
   "execution_count": 26,
   "metadata": {},
   "outputs": [],
   "source": [
    "class ConfigurationManager:\n",
    "    def __init__(\n",
    "        self,\n",
    "        config_filepath = CONFIG_FILE_PATH,\n",
    "        params_filepath = PARAMS_FILE_PATH):\n",
    "\n",
    "        self.config = read_yaml(config_filepath)\n",
    "        self.params = read_yaml(params_filepath)\n",
    "\n",
    "        create_directories([self.config.artifacts_root])\n",
    "\n",
    "\n",
    "    \n",
    "    def get_model_prediction_config(self) -> ModelPredictionConfig:\n",
    "        config = self.config.model_predictor\n",
    "\n",
    "\n",
    "        get_model_prediction_config = ModelPredictionConfig(\n",
    "            model_path = config.model_path,\n",
    "            model_ckpt=config.model_ckpt\n",
    "           \n",
    "        )\n",
    "\n",
    "        return get_model_prediction_config"
   ]
  },
  {
   "cell_type": "code",
   "execution_count": 9,
   "metadata": {},
   "outputs": [
    {
     "name": "stderr",
     "output_type": "stream",
     "text": [
      "c:\\Users\\prati\\Desktop\\Project\\English-to-Hindi-Translator\\venv\\lib\\site-packages\\tqdm\\auto.py:21: TqdmWarning: IProgress not found. Please update jupyter and ipywidgets. See https://ipywidgets.readthedocs.io/en/stable/user_install.html\n",
      "  from .autonotebook import tqdm as notebook_tqdm\n"
     ]
    }
   ],
   "source": [
    "from src.translator.config.configuration import ConfigurationManager\n",
    "from transformers import AutoTokenizer, TFAutoModelForSeq2SeqLM"
   ]
  },
  {
   "cell_type": "code",
   "execution_count": 27,
   "metadata": {},
   "outputs": [],
   "source": [
    "# prediction.py\n",
    "class PredictionPipeline:\n",
    "    def __init__(self):\n",
    "        self.config = ConfigurationManager().get_model_prediction_config()\n",
    "        self.tokenizer = AutoTokenizer.from_pretrained(self.config.model_ckpt)\n",
    "        self.model = TFAutoModelForSeq2SeqLM.from_pretrained(self.config.model_ckpt)\n",
    "\n",
    "    def predict(self, text):\n",
    "        tokenized = self.tokenizer([text], return_tensors='np')\n",
    "        out = self.model.generate(**tokenized, max_length=128)\n",
    "\n",
    "        with self.tokenizer.as_target_tokenizer():\n",
    "            return self.tokenizer.decode(out[0], skip_special_tokens=True)\n"
   ]
  },
  {
   "cell_type": "code",
   "execution_count": 21,
   "metadata": {},
   "outputs": [],
   "source": [
    "import os\n",
    "from transformers import AutoTokenizer\n",
    "from datasets import load_from_disk\n",
    "from src.translator.logging import logger"
   ]
  },
  {
   "cell_type": "code",
   "execution_count": null,
   "metadata": {},
   "outputs": [],
   "source": []
  },
  {
   "cell_type": "code",
   "execution_count": 31,
   "metadata": {},
   "outputs": [
    {
     "name": "stdout",
     "output_type": "stream",
     "text": [
      "[2023-08-22 07:56:02,850: INFO: common: yaml file: config\\config.yaml loaded successfully]\n",
      "[2023-08-22 07:56:02,864: INFO: common: yaml file: params.yaml loaded successfully]\n",
      "[2023-08-22 07:56:02,864: INFO: common: created directory at: artifacts]\n",
      "[2023-08-22 07:56:02,875: INFO: common: yaml file: config\\config.yaml loaded successfully]\n",
      "[2023-08-22 07:56:02,880: INFO: common: yaml file: params.yaml loaded successfully]\n",
      "[2023-08-22 07:56:02,880: INFO: common: created directory at: artifacts]\n"
     ]
    },
    {
     "name": "stderr",
     "output_type": "stream",
     "text": [
      "All model checkpoint layers were used when initializing TFMarianMTModel.\n",
      "\n",
      "All the layers of TFMarianMTModel were initialized from the model checkpoint at Helsinki-NLP/opus-mt-en-hi.\n",
      "If your task is similar to the task the model of the checkpoint was trained on, you can already use TFMarianMTModel for predictions without further training.\n"
     ]
    },
    {
     "name": "stdout",
     "output_type": "stream",
     "text": [
      "पाठ दाखिल करें जिसका अनुवाद आप करना चाहते हैं\n"
     ]
    }
   ],
   "source": [
    "try:\n",
    "    config = ConfigurationManager()\n",
    "    model_prediction_config = config.get_model_prediction_config()\n",
    "    model_predict = PredictionPipeline()\n",
    "    user_input = input(\"Enter text you want to translate\")\n",
    "    \n",
    "    print(model_predict.predict(user_input))\n",
    "except Exception as e:\n",
    "    raise e"
   ]
  },
  {
   "cell_type": "code",
   "execution_count": null,
   "metadata": {},
   "outputs": [],
   "source": []
  }
 ],
 "metadata": {
  "kernelspec": {
   "display_name": "Python 3",
   "language": "python",
   "name": "python3"
  },
  "language_info": {
   "codemirror_mode": {
    "name": "ipython",
    "version": 3
   },
   "file_extension": ".py",
   "mimetype": "text/x-python",
   "name": "python",
   "nbconvert_exporter": "python",
   "pygments_lexer": "ipython3",
   "version": "3.8.0"
  },
  "orig_nbformat": 4
 },
 "nbformat": 4,
 "nbformat_minor": 2
}
